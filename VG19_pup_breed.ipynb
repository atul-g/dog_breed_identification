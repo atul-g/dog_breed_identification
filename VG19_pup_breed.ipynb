{
  "nbformat": 4,
  "nbformat_minor": 0,
  "metadata": {
    "colab": {
      "name": "VG19_pup_breed.ipynb",
      "version": "0.3.2",
      "provenance": [],
      "collapsed_sections": [],
      "toc_visible": true,
      "include_colab_link": true
    },
    "kernelspec": {
      "name": "python3",
      "display_name": "Python 3"
    },
    "accelerator": "GPU"
  },
  "cells": [
    {
      "cell_type": "markdown",
      "metadata": {
        "id": "view-in-github",
        "colab_type": "text"
      },
      "source": [
        "<a href=\"https://colab.research.google.com/github/et-tu-atulu/dog_breed_identification/blob/master/VG19_pup_breed.ipynb\" target=\"_parent\"><img src=\"https://colab.research.google.com/assets/colab-badge.svg\" alt=\"Open In Colab\"/></a>"
      ]
    },
    {
      "cell_type": "code",
      "metadata": {
        "id": "okvFUmFTQ_bC",
        "colab_type": "code",
        "colab": {}
      },
      "source": [
        "# Run this cell to mount your Google Drive.\n",
        "from google.colab import drive\n",
        "drive.mount('/content/drive')"
      ],
      "execution_count": 0,
      "outputs": []
    },
    {
      "cell_type": "code",
      "metadata": {
        "id": "IEYgI5TtREcX",
        "colab_type": "code",
        "colab": {}
      },
      "source": [
        "#extract the zip file here\n",
        "import os\n",
        "from zipfile import ZipFile\n",
        "zipobj=ZipFile(os.path.abspath('.')+'/drive/My Drive/dataset.zip', 'r')\n",
        "zipobj.extractall()"
      ],
      "execution_count": 0,
      "outputs": []
    },
    {
      "cell_type": "code",
      "metadata": {
        "id": "TARzxzOWog6e",
        "colab_type": "code",
        "colab": {}
      },
      "source": [
        "#Image augmentation\n",
        "\n",
        "import os\n",
        "import keras\n",
        "from keras.preprocessing.image import ImageDataGenerator\n",
        "\n",
        "\n",
        "image_gen_train = ImageDataGenerator(rescale = 1./255, horizontal_flip = True, zoom_range = 0.2, rotation_range=90)\n",
        "\n",
        "train_gen = image_gen_train.flow_from_directory(batch_size=32, directory = os.path.abspath('.')+'/train', shuffle = True, target_size =(150, 150), class_mode = 'sparse')\n",
        "\n",
        "image_gen_test = ImageDataGenerator(rescale = 1./255)\n",
        "\n",
        "test_gen = image_gen_test.flow_from_directory(batch_size=32, directory=os.path.abspath('.')+'/test', target_size=(150, 150), class_mode='sparse')\n",
        "\n"
      ],
      "execution_count": 0,
      "outputs": []
    },
    {
      "cell_type": "code",
      "metadata": {
        "id": "uiV_Pd3zponZ",
        "colab_type": "code",
        "colab": {}
      },
      "source": [
        "#Creating the model and compiling it\n",
        "from keras.applications.vgg19 import VGG19\n",
        "from keras.models import Model\n",
        "from keras.layers import Dense, Dropout, Flatten\n",
        "\n",
        "\n",
        "base_model = VGG19(weights='imagenet', include_top=False, input_shape=(150, 150, 3))\n",
        "\n",
        "x = base_model.output\n",
        "x = Flatten()(x)\n",
        "predictions = Dense(120, activation='softmax')(x)\n",
        "\n",
        "\n",
        "model = Model(inputs=base_model.input, outputs=predictions)\n",
        "\n",
        "# First: train only the top layers (which were randomly initialized)\n",
        "for layer in base_model.layers:\n",
        "    layer.trainable = False\n",
        "\n",
        "    \n",
        "model.compile(loss='sparse_categorical_crossentropy', \n",
        "              optimizer='adam', \n",
        "              metrics=['accuracy'])\n",
        "\n",
        "\n",
        "model.summary()"
      ],
      "execution_count": 0,
      "outputs": []
    },
    {
      "cell_type": "code",
      "metadata": {
        "id": "5qt1Dr6Vm7wj",
        "colab_type": "code",
        "colab": {}
      },
      "source": [
        "#training the model\n",
        "EPOCHS = 50\n",
        "history = model.fit_generator(train_gen,\n",
        "                    steps_per_epoch=513,         \n",
        "                    epochs=EPOCHS,\n",
        "                    validation_data=test_gen,\n",
        "                    validation_steps=130)"
      ],
      "execution_count": 0,
      "outputs": []
    }
  ]
}