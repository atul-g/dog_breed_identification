{
  "nbformat": 4,
  "nbformat_minor": 0,
  "metadata": {
    "colab": {
      "name": "VG19_pup_breed.ipynb",
      "version": "0.3.2",
      "provenance": [],
      "collapsed_sections": [],
      "include_colab_link": true
    },
    "kernelspec": {
      "name": "python3",
      "display_name": "Python 3"
    },
    "accelerator": "GPU"
  },
  "cells": [
    {
      "cell_type": "markdown",
      "metadata": {
        "id": "view-in-github",
        "colab_type": "text"
      },
      "source": [
        "<a href=\"https://colab.research.google.com/github/et-tu-atulu/dog_breed_identification/blob/master/VG19_pup_breed.ipynb\" target=\"_parent\"><img src=\"https://colab.research.google.com/assets/colab-badge.svg\" alt=\"Open In Colab\"/></a>"
      ]
    },
    {
      "cell_type": "code",
      "metadata": {
        "id": "okvFUmFTQ_bC",
        "colab_type": "code",
        "outputId": "6ed4643a-2745-4f0c-f8ed-2f4cfb94e2d3",
        "colab": {
          "base_uri": "https://localhost:8080/",
          "height": 36
        }
      },
      "source": [
        "# Run this cell to mount your Google Drive.\n",
        "from google.colab import drive\n",
        "drive.mount('/content/drive')"
      ],
      "execution_count": 0,
      "outputs": [
        {
          "output_type": "stream",
          "text": [
            "Drive already mounted at /content/drive; to attempt to forcibly remount, call drive.mount(\"/content/drive\", force_remount=True).\n"
          ],
          "name": "stdout"
        }
      ]
    },
    {
      "cell_type": "code",
      "metadata": {
        "id": "IEYgI5TtREcX",
        "colab_type": "code",
        "colab": {}
      },
      "source": [
        "#extract the zip file here\n",
        "import os\n",
        "from zipfile import ZipFile\n",
        "zipobj=ZipFile(os.path.abspath('.')+'/drive/My Drive/dataset.zip', 'r')\n",
        "zipobj.extractall()"
      ],
      "execution_count": 0,
      "outputs": []
    },
    {
      "cell_type": "code",
      "metadata": {
        "id": "mo5dkgqxRGbo",
        "colab_type": "code",
        "outputId": "171e4463-ad5f-479b-c025-4785c47072fa",
        "colab": {
          "base_uri": "https://localhost:8080/",
          "height": 715
        }
      },
      "source": [
        "!pip install tf-nightly-gpu"
      ],
      "execution_count": 0,
      "outputs": [
        {
          "output_type": "stream",
          "text": [
            "Collecting tf-nightly-gpu\n",
            "\u001b[?25l  Downloading https://files.pythonhosted.org/packages/4a/4d/75a1a93bf7971f4f6d50071ad11885c3a0d480fa7709f0e065b3b62686e7/tf_nightly_gpu-1.15.0.dev20190628-cp36-cp36m-manylinux1_x86_64.whl (396.1MB)\n",
            "\u001b[K     |████████████████████████████████| 396.1MB 47kB/s \n",
            "\u001b[?25hCollecting opt-einsum>=2.3.2 (from tf-nightly-gpu)\n",
            "\u001b[?25l  Downloading https://files.pythonhosted.org/packages/f6/d6/44792ec668bcda7d91913c75237314e688f70415ab2acd7172c845f0b24f/opt_einsum-2.3.2.tar.gz (59kB)\n",
            "\u001b[K     |████████████████████████████████| 61kB 23.2MB/s \n",
            "\u001b[?25hCollecting tf-estimator-nightly (from tf-nightly-gpu)\n",
            "\u001b[?25l  Downloading https://files.pythonhosted.org/packages/07/60/82d2fec3251ba57f700efdab788e685d021db019168b2ae966ab809ea99c/tf_estimator_nightly-1.14.0.dev2019062801-py2.py3-none-any.whl (499kB)\n",
            "\u001b[K     |████████████████████████████████| 501kB 49.5MB/s \n",
            "\u001b[?25hRequirement already satisfied: termcolor>=1.1.0 in /usr/local/lib/python3.6/dist-packages (from tf-nightly-gpu) (1.1.0)\n",
            "Requirement already satisfied: protobuf>=3.6.1 in /usr/local/lib/python3.6/dist-packages (from tf-nightly-gpu) (3.7.1)\n",
            "Requirement already satisfied: google-pasta>=0.1.6 in /usr/local/lib/python3.6/dist-packages (from tf-nightly-gpu) (0.1.7)\n",
            "Requirement already satisfied: six>=1.10.0 in /usr/local/lib/python3.6/dist-packages (from tf-nightly-gpu) (1.12.0)\n",
            "Requirement already satisfied: grpcio>=1.8.6 in /usr/local/lib/python3.6/dist-packages (from tf-nightly-gpu) (1.15.0)\n",
            "Requirement already satisfied: astor>=0.6.0 in /usr/local/lib/python3.6/dist-packages (from tf-nightly-gpu) (0.8.0)\n",
            "Collecting tb-nightly<1.15.0a0,>=1.14.0a0 (from tf-nightly-gpu)\n",
            "\u001b[?25l  Downloading https://files.pythonhosted.org/packages/3a/60/afa129c3621d62c885599076f8e89737d66e5dfffad1a08842b1c11b4540/tb_nightly-1.14.0a20190614-py3-none-any.whl (3.1MB)\n",
            "\u001b[K     |████████████████████████████████| 3.2MB 49.5MB/s \n",
            "\u001b[?25hRequirement already satisfied: absl-py>=0.7.0 in /usr/local/lib/python3.6/dist-packages (from tf-nightly-gpu) (0.7.1)\n",
            "Requirement already satisfied: wheel>=0.26 in /usr/local/lib/python3.6/dist-packages (from tf-nightly-gpu) (0.33.4)\n",
            "Requirement already satisfied: wrapt>=1.11.1 in /usr/local/lib/python3.6/dist-packages (from tf-nightly-gpu) (1.11.1)\n",
            "Requirement already satisfied: gast>=0.2.0 in /usr/local/lib/python3.6/dist-packages (from tf-nightly-gpu) (0.2.2)\n",
            "Requirement already satisfied: keras-applications>=1.0.8 in /usr/local/lib/python3.6/dist-packages (from tf-nightly-gpu) (1.0.8)\n",
            "Requirement already satisfied: keras-preprocessing>=1.0.5 in /usr/local/lib/python3.6/dist-packages (from tf-nightly-gpu) (1.1.0)\n",
            "Requirement already satisfied: numpy<2.0,>=1.14.5 in /usr/local/lib/python3.6/dist-packages (from tf-nightly-gpu) (1.16.4)\n",
            "Requirement already satisfied: setuptools in /usr/local/lib/python3.6/dist-packages (from protobuf>=3.6.1->tf-nightly-gpu) (41.0.1)\n",
            "Requirement already satisfied: werkzeug>=0.11.15 in /usr/local/lib/python3.6/dist-packages (from tb-nightly<1.15.0a0,>=1.14.0a0->tf-nightly-gpu) (0.15.4)\n",
            "Requirement already satisfied: markdown>=2.6.8 in /usr/local/lib/python3.6/dist-packages (from tb-nightly<1.15.0a0,>=1.14.0a0->tf-nightly-gpu) (3.1.1)\n",
            "Requirement already satisfied: h5py in /usr/local/lib/python3.6/dist-packages (from keras-applications>=1.0.8->tf-nightly-gpu) (2.8.0)\n",
            "Building wheels for collected packages: opt-einsum\n",
            "  Building wheel for opt-einsum (setup.py) ... \u001b[?25l\u001b[?25hdone\n",
            "  Stored in directory: /root/.cache/pip/wheels/51/3e/a3/b351fae0cbf15373c2136a54a70f43fea5fe91d8168a5faaa4\n",
            "Successfully built opt-einsum\n",
            "Installing collected packages: opt-einsum, tf-estimator-nightly, tb-nightly, tf-nightly-gpu\n",
            "Successfully installed opt-einsum-2.3.2 tb-nightly-1.14.0a20190614 tf-estimator-nightly-1.14.0.dev2019062801 tf-nightly-gpu-1.15.0.dev20190628\n"
          ],
          "name": "stdout"
        }
      ]
    },
    {
      "cell_type": "code",
      "metadata": {
        "id": "TARzxzOWog6e",
        "colab_type": "code",
        "outputId": "d2f2bfb8-8789-4dfd-e567-edabacece6bb",
        "colab": {
          "base_uri": "https://localhost:8080/",
          "height": 56
        }
      },
      "source": [
        "import os\n",
        "import numpy as np\n",
        "import tensorflow as tf\n",
        "from tensorflow.keras.preprocessing.image import ImageDataGenerator\n",
        "from tensorflow.keras.models import Sequential\n",
        "from tensorflow.keras.layers import Dense, Conv2D, Flatten, Dropout, MaxPooling2D\n",
        "\n",
        "\n",
        "\n",
        "image_gen_train = ImageDataGenerator(rescale = 1./255, horizontal_flip = True, zoom_range = 0.2, rotation_range=90)\n",
        "\n",
        "train_gen = image_gen_train.flow_from_directory(batch_size=32, directory = os.path.abspath('.')+'/train', shuffle = True, target_size =(150, 150), class_mode = 'sparse')\n",
        "\n",
        "image_gen_test = ImageDataGenerator(rescale = 1./255)\n",
        "\n",
        "test_gen = image_gen_test.flow_from_directory(batch_size=32, directory=os.path.abspath('.')+'/test', target_size=(150, 150), class_mode='sparse')\n",
        "\n"
      ],
      "execution_count": 0,
      "outputs": [
        {
          "output_type": "stream",
          "text": [
            "Found 16418 images belonging to 120 classes.\n",
            "Found 4162 images belonging to 120 classes.\n"
          ],
          "name": "stdout"
        }
      ]
    },
    {
      "cell_type": "markdown",
      "metadata": {
        "id": "9yvGPLjrXkUJ",
        "colab_type": "text"
      },
      "source": [
        "# New Section"
      ]
    },
    {
      "cell_type": "code",
      "metadata": {
        "id": "uiV_Pd3zponZ",
        "colab_type": "code",
        "outputId": "6439e214-c731-489a-bf9e-d30f93596a79",
        "colab": {
          "base_uri": "https://localhost:8080/",
          "height": 1000
        }
      },
      "source": [
        "from tensorflow.keras.models import Sequential\n",
        "from tensorflow.keras.layers import Dense, Conv2D, Flatten, Dropout, MaxPooling2D\n",
        "from tensorflow.keras import layers\n",
        "import tensorflow_hub as hub\n",
        "import numpy as np\n",
        "\n",
        "\n",
        "import keras\n",
        "from keras.applications.vgg19 import VGG19\n",
        "from keras.models import Model\n",
        "from keras.layers import Dense, Dropout, Flatten\n",
        "\n",
        "#\n",
        "\n",
        "base_model = VGG19(weights='imagenet', include_top=False, input_shape=(150, 150, 3))\n",
        "\n",
        "x = base_model.output\n",
        "x = Flatten()(x)\n",
        "predictions = Dense(120, activation='softmax')(x)\n",
        "\n",
        "\n",
        "model = Model(inputs=base_model.input, outputs=predictions)\n",
        "\n",
        "# First: train only the top layers (which were randomly initialized)\n",
        "for layer in base_model.layers:\n",
        "    layer.trainable = False\n",
        "\n",
        "    \n",
        "model.compile(loss='sparse_categorical_crossentropy', \n",
        "              optimizer='adam', \n",
        "              metrics=['accuracy'])\n",
        "\n",
        "\n",
        "model.summary()"
      ],
      "execution_count": 0,
      "outputs": [
        {
          "output_type": "stream",
          "text": [
            "_________________________________________________________________\n",
            "Layer (type)                 Output Shape              Param #   \n",
            "=================================================================\n",
            "input_4 (InputLayer)         (None, 150, 150, 3)       0         \n",
            "_________________________________________________________________\n",
            "block1_conv1 (Conv2D)        (None, 150, 150, 64)      1792      \n",
            "_________________________________________________________________\n",
            "block1_conv2 (Conv2D)        (None, 150, 150, 64)      36928     \n",
            "_________________________________________________________________\n",
            "block1_pool (MaxPooling2D)   (None, 75, 75, 64)        0         \n",
            "_________________________________________________________________\n",
            "block2_conv1 (Conv2D)        (None, 75, 75, 128)       73856     \n",
            "_________________________________________________________________\n",
            "block2_conv2 (Conv2D)        (None, 75, 75, 128)       147584    \n",
            "_________________________________________________________________\n",
            "block2_pool (MaxPooling2D)   (None, 37, 37, 128)       0         \n",
            "_________________________________________________________________\n",
            "block3_conv1 (Conv2D)        (None, 37, 37, 256)       295168    \n",
            "_________________________________________________________________\n",
            "block3_conv2 (Conv2D)        (None, 37, 37, 256)       590080    \n",
            "_________________________________________________________________\n",
            "block3_conv3 (Conv2D)        (None, 37, 37, 256)       590080    \n",
            "_________________________________________________________________\n",
            "block3_conv4 (Conv2D)        (None, 37, 37, 256)       590080    \n",
            "_________________________________________________________________\n",
            "block3_pool (MaxPooling2D)   (None, 18, 18, 256)       0         \n",
            "_________________________________________________________________\n",
            "block4_conv1 (Conv2D)        (None, 18, 18, 512)       1180160   \n",
            "_________________________________________________________________\n",
            "block4_conv2 (Conv2D)        (None, 18, 18, 512)       2359808   \n",
            "_________________________________________________________________\n",
            "block4_conv3 (Conv2D)        (None, 18, 18, 512)       2359808   \n",
            "_________________________________________________________________\n",
            "block4_conv4 (Conv2D)        (None, 18, 18, 512)       2359808   \n",
            "_________________________________________________________________\n",
            "block4_pool (MaxPooling2D)   (None, 9, 9, 512)         0         \n",
            "_________________________________________________________________\n",
            "block5_conv1 (Conv2D)        (None, 9, 9, 512)         2359808   \n",
            "_________________________________________________________________\n",
            "block5_conv2 (Conv2D)        (None, 9, 9, 512)         2359808   \n",
            "_________________________________________________________________\n",
            "block5_conv3 (Conv2D)        (None, 9, 9, 512)         2359808   \n",
            "_________________________________________________________________\n",
            "block5_conv4 (Conv2D)        (None, 9, 9, 512)         2359808   \n",
            "_________________________________________________________________\n",
            "block5_pool (MaxPooling2D)   (None, 4, 4, 512)         0         \n",
            "_________________________________________________________________\n",
            "flatten_4 (Flatten)          (None, 8192)              0         \n",
            "_________________________________________________________________\n",
            "dense_4 (Dense)              (None, 120)               983160    \n",
            "=================================================================\n",
            "Total params: 21,007,544\n",
            "Trainable params: 983,160\n",
            "Non-trainable params: 20,024,384\n",
            "_________________________________________________________________\n"
          ],
          "name": "stdout"
        }
      ]
    },
    {
      "cell_type": "code",
      "metadata": {
        "id": "5qt1Dr6Vm7wj",
        "colab_type": "code",
        "outputId": "0eebd62e-eb15-431a-fcf5-2316329a7fa2",
        "colab": {
          "base_uri": "https://localhost:8080/",
          "height": 1000
        }
      },
      "source": [
        "\n",
        "\n",
        "EPOCHS = 50\n",
        "history = model.fit_generator(train_gen,\n",
        "                    steps_per_epoch=513,         \n",
        "                    epochs=EPOCHS,\n",
        "                    validation_data=test_gen,\n",
        "                    validation_steps=130)"
      ],
      "execution_count": 0,
      "outputs": [
        {
          "output_type": "stream",
          "text": [
            "Epoch 1/50\n",
            "513/513 [==============================] - 162s 317ms/step - loss: 4.8175 - acc: 0.0634 - val_loss: 4.1794 - val_acc: 0.1310\n",
            "Epoch 2/50\n",
            "513/513 [==============================] - 144s 281ms/step - loss: 4.2075 - acc: 0.1299 - val_loss: 4.1316 - val_acc: 0.1494\n",
            "Epoch 3/50\n",
            "513/513 [==============================] - 143s 278ms/step - loss: 3.9767 - acc: 0.1589 - val_loss: 4.0059 - val_acc: 0.1765\n",
            "Epoch 4/50\n",
            "513/513 [==============================] - 142s 277ms/step - loss: 3.8166 - acc: 0.1851 - val_loss: 4.1139 - val_acc: 0.1707\n",
            "Epoch 5/50\n",
            "513/513 [==============================] - 141s 274ms/step - loss: 3.7069 - acc: 0.2015 - val_loss: 4.0568 - val_acc: 0.1990\n",
            "Epoch 6/50\n",
            "513/513 [==============================] - 142s 276ms/step - loss: 3.5921 - acc: 0.2149 - val_loss: 4.2478 - val_acc: 0.1714\n",
            "Epoch 7/50\n",
            "513/513 [==============================] - 142s 277ms/step - loss: 3.5185 - acc: 0.2343 - val_loss: 4.1938 - val_acc: 0.1857\n",
            "Epoch 8/50\n",
            "513/513 [==============================] - 143s 279ms/step - loss: 3.4756 - acc: 0.2350 - val_loss: 4.2350 - val_acc: 0.1879\n",
            "Epoch 9/50\n",
            "513/513 [==============================] - 142s 277ms/step - loss: 3.4109 - acc: 0.2518 - val_loss: 4.2089 - val_acc: 0.1852\n",
            "Epoch 10/50\n",
            "513/513 [==============================] - 140s 273ms/step - loss: 3.3966 - acc: 0.2512 - val_loss: 4.1561 - val_acc: 0.1988\n",
            "Epoch 11/50\n",
            "513/513 [==============================] - 141s 274ms/step - loss: 3.2957 - acc: 0.2658 - val_loss: 4.1444 - val_acc: 0.1930\n",
            "Epoch 12/50\n",
            "513/513 [==============================] - 142s 276ms/step - loss: 3.2169 - acc: 0.2774 - val_loss: 4.2723 - val_acc: 0.1956\n",
            "Epoch 13/50\n",
            "513/513 [==============================] - 141s 275ms/step - loss: 3.2279 - acc: 0.2836 - val_loss: 4.1202 - val_acc: 0.2039\n",
            "Epoch 14/50\n",
            "513/513 [==============================] - 142s 277ms/step - loss: 3.1646 - acc: 0.2907 - val_loss: 4.1784 - val_acc: 0.2007\n",
            "Epoch 15/50\n",
            "513/513 [==============================] - 141s 275ms/step - loss: 3.1525 - acc: 0.2934 - val_loss: 4.2440 - val_acc: 0.2107\n",
            "Epoch 16/50\n",
            "513/513 [==============================] - 141s 275ms/step - loss: 3.0956 - acc: 0.3029 - val_loss: 4.4057 - val_acc: 0.1930\n",
            "Epoch 17/50\n",
            "513/513 [==============================] - 141s 276ms/step - loss: 3.0533 - acc: 0.3102 - val_loss: 4.4550 - val_acc: 0.1966\n",
            "Epoch 18/50\n",
            "513/513 [==============================] - 141s 275ms/step - loss: 3.0634 - acc: 0.3146 - val_loss: 4.3904 - val_acc: 0.2063\n",
            "Epoch 19/50\n",
            "513/513 [==============================] - 141s 275ms/step - loss: 3.0345 - acc: 0.3134 - val_loss: 4.5301 - val_acc: 0.2044\n",
            "Epoch 20/50\n",
            "513/513 [==============================] - 141s 274ms/step - loss: 3.0212 - acc: 0.3163 - val_loss: 4.3987 - val_acc: 0.2034\n",
            "Epoch 21/50\n",
            "513/513 [==============================] - 140s 274ms/step - loss: 2.9686 - acc: 0.3224 - val_loss: 4.4052 - val_acc: 0.2092\n",
            "Epoch 22/50\n",
            "513/513 [==============================] - 142s 276ms/step - loss: 2.9469 - acc: 0.3327 - val_loss: 4.4661 - val_acc: 0.2143\n",
            "Epoch 23/50\n",
            "513/513 [==============================] - 141s 274ms/step - loss: 2.9636 - acc: 0.3307 - val_loss: 4.4421 - val_acc: 0.2022\n",
            "Epoch 24/50\n",
            "513/513 [==============================] - 141s 275ms/step - loss: 2.9396 - acc: 0.3374 - val_loss: 4.7155 - val_acc: 0.1867\n",
            "Epoch 25/50\n",
            "513/513 [==============================] - 141s 276ms/step - loss: 2.8771 - acc: 0.3472 - val_loss: 4.4859 - val_acc: 0.2169\n",
            "Epoch 26/50\n",
            "513/513 [==============================] - 141s 275ms/step - loss: 2.8915 - acc: 0.3416 - val_loss: 4.5713 - val_acc: 0.1964\n",
            "Epoch 27/50\n",
            "513/513 [==============================] - 142s 276ms/step - loss: 2.8311 - acc: 0.3554 - val_loss: 4.6505 - val_acc: 0.2002\n",
            "Epoch 28/50\n",
            "513/513 [==============================] - 142s 278ms/step - loss: 2.8165 - acc: 0.3502 - val_loss: 4.6986 - val_acc: 0.2116\n",
            "Epoch 29/50\n",
            "513/513 [==============================] - 141s 274ms/step - loss: 2.8236 - acc: 0.3544 - val_loss: 4.5926 - val_acc: 0.2090\n",
            "Epoch 30/50\n",
            "513/513 [==============================] - 142s 276ms/step - loss: 2.7745 - acc: 0.3564 - val_loss: 4.6502 - val_acc: 0.2002\n",
            "Epoch 31/50\n",
            "513/513 [==============================] - 144s 281ms/step - loss: 2.7719 - acc: 0.3637 - val_loss: 4.7011 - val_acc: 0.2027\n",
            "Epoch 32/50\n",
            "513/513 [==============================] - 143s 279ms/step - loss: 2.7760 - acc: 0.3625 - val_loss: 4.7400 - val_acc: 0.1947\n",
            "Epoch 33/50\n",
            "513/513 [==============================] - 143s 278ms/step - loss: 2.7324 - acc: 0.3634 - val_loss: 4.6848 - val_acc: 0.2080\n",
            "Epoch 34/50\n",
            "513/513 [==============================] - 141s 274ms/step - loss: 2.7396 - acc: 0.3688 - val_loss: 4.8440 - val_acc: 0.2000\n",
            "Epoch 35/50\n",
            "513/513 [==============================] - 140s 273ms/step - loss: 2.7036 - acc: 0.3781 - val_loss: 4.7767 - val_acc: 0.2109\n",
            "Epoch 36/50\n",
            "513/513 [==============================] - 140s 272ms/step - loss: 2.7510 - acc: 0.3670 - val_loss: 4.8673 - val_acc: 0.2000\n",
            "Epoch 37/50\n",
            "513/513 [==============================] - 140s 273ms/step - loss: 2.6970 - acc: 0.3776 - val_loss: 5.0278 - val_acc: 0.1969\n",
            "Epoch 38/50\n",
            "513/513 [==============================] - 140s 274ms/step - loss: 2.6859 - acc: 0.3790 - val_loss: 4.8107 - val_acc: 0.2019\n",
            "Epoch 39/50\n",
            "513/513 [==============================] - 141s 274ms/step - loss: 2.7163 - acc: 0.3822 - val_loss: 4.9204 - val_acc: 0.2070\n",
            "Epoch 40/50\n",
            "513/513 [==============================] - 142s 278ms/step - loss: 2.6463 - acc: 0.3878 - val_loss: 4.7505 - val_acc: 0.1976\n",
            "Epoch 41/50\n",
            "513/513 [==============================] - 142s 278ms/step - loss: 2.6487 - acc: 0.3912 - val_loss: 4.8789 - val_acc: 0.2058\n",
            "Epoch 42/50\n",
            "513/513 [==============================] - 142s 277ms/step - loss: 2.6597 - acc: 0.3861 - val_loss: 5.1061 - val_acc: 0.1949\n",
            "Epoch 43/50\n",
            "513/513 [==============================] - 142s 278ms/step - loss: 2.6255 - acc: 0.3941 - val_loss: 4.8349 - val_acc: 0.1983\n",
            "Epoch 44/50\n",
            "513/513 [==============================] - 141s 276ms/step - loss: 2.6046 - acc: 0.3984 - val_loss: 5.0098 - val_acc: 0.2097\n",
            "Epoch 45/50\n",
            "513/513 [==============================] - 143s 279ms/step - loss: 2.6061 - acc: 0.3924 - val_loss: 4.9210 - val_acc: 0.2080\n",
            "Epoch 46/50\n",
            "513/513 [==============================] - 141s 275ms/step - loss: 2.6160 - acc: 0.3971 - val_loss: 5.0876 - val_acc: 0.1937\n",
            "Epoch 47/50\n",
            "513/513 [==============================] - 142s 277ms/step - loss: 2.5858 - acc: 0.3949 - val_loss: 4.9267 - val_acc: 0.2058\n",
            "Epoch 48/50\n",
            "513/513 [==============================] - 142s 277ms/step - loss: 2.6320 - acc: 0.3943 - val_loss: 5.0216 - val_acc: 0.1835\n",
            "Epoch 49/50\n",
            "513/513 [==============================] - 142s 277ms/step - loss: 2.5978 - acc: 0.3991 - val_loss: 5.1719 - val_acc: 0.2031\n",
            "Epoch 50/50\n",
            "513/513 [==============================] - 143s 279ms/step - loss: 2.5714 - acc: 0.4048 - val_loss: 5.1065 - val_acc: 0.1993\n"
          ],
          "name": "stdout"
        }
      ]
    }
  ]
}